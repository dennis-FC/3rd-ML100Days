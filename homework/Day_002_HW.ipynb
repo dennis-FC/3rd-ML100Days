{
 "cells": [
  {
   "cell_type": "markdown",
   "metadata": {},
   "source": [
    "## [作業目標]\n",
    "了解機器學習適合應用的領域與範疇。"
   ]
  },
  {
   "cell_type": "markdown",
   "metadata": {},
   "source": [
    "## [作業重點]\n",
    "透過瞭解機器學習的運作方式，找出非常適用機器學習應用的領域及其原因"
   ]
  },
  {
   "cell_type": "markdown",
   "metadata": {},
   "source": [
    "## 作業\n",
    "請找出一個你認為機器學習可以發光發熱的領域並闡述原因?\n",
    "1.我覺得機器學習可以在搜尋以及推薦方面有不錯的發展，例如:推薦電影。將一部電影分成電影名，類型，導演，演員等等做成一個個的特徵，利用這些特徵作為參數，每當使用者點擊某電影參數就會做一些調整，而這個機器學習的方式將會讓此推薦系統越來越準確了解使用者的喜好。當公司越了解使用者喜好就可以推薦給使用者更好的服務體驗，增加利益與顧客滿意度。(非監督式學習)\n",
    "2.人臉辨識方面也可以用於追捕犯人。即使犯人犯案的時候是用某些物品來遮蔽自己的五官防止被追捕，但機器學習利用大量的資料以及數據，可以從陰暗部分與皺褶來準確的發現推理初犯人的長相，以方面警察追捕犯人。(監督式學習)"
   ]
  },
  {
   "cell_type": "code",
   "execution_count": null,
   "metadata": {},
   "outputs": [],
   "source": [
    "   "
   ]
  }
 ],
 "metadata": {
  "kernelspec": {
   "display_name": "Python 3",
   "language": "python",
   "name": "python3"
  },
  "language_info": {
   "codemirror_mode": {
    "name": "ipython",
    "version": 3
   },
   "file_extension": ".py",
   "mimetype": "text/x-python",
   "name": "python",
   "nbconvert_exporter": "python",
   "pygments_lexer": "ipython3",
   "version": "3.7.3"
  }
 },
 "nbformat": 4,
 "nbformat_minor": 2
}
